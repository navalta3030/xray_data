{
 "cells": [
  {
   "cell_type": "code",
   "execution_count": 1,
   "metadata": {
    "colab": {
     "base_uri": "https://localhost:8080/",
     "height": 88
    },
    "colab_type": "code",
    "executionInfo": {
     "elapsed": 285,
     "status": "ok",
     "timestamp": 1584456354230,
     "user": {
      "displayName": "Mark Christian Navalta",
      "photoUrl": "",
      "userId": "09219874191985009997"
     },
     "user_tz": 420
    },
    "id": "J7H7GG3K8Gj6",
    "outputId": "1ccb813c-4f56-4bc8-8195-14cd42ba7c8c"
   },
   "outputs": [],
   "source": [
    "%load_ext autoreload\n",
    "%autoreload 2"
   ]
  },
  {
   "cell_type": "code",
   "execution_count": 4,
   "metadata": {
    "colab": {},
    "colab_type": "code",
    "id": "DLV82GJv8GkB"
   },
   "outputs": [],
   "source": [
    "from utils import *\n",
    "from ml_utils import XrayTF\n",
    "from tqdm import tqdm_notebook as tqdm\n",
    "\n",
    "import matplotlib.pyplot as plt\n",
    "import numpy as np\n",
    "import os"
   ]
  },
  {
   "cell_type": "code",
   "execution_count": 5,
   "metadata": {
    "colab": {
     "base_uri": "https://localhost:8080/",
     "height": 221
    },
    "colab_type": "code",
    "executionInfo": {
     "elapsed": 996,
     "status": "ok",
     "timestamp": 1584456506440,
     "user": {
      "displayName": "Mark Christian Navalta",
      "photoUrl": "",
      "userId": "09219874191985009997"
     },
     "user_tz": 420
    },
    "id": "0a-NQ7Pf8GkE",
    "outputId": "360223ab-3ea9-4b51-b2d4-6b5a2ddab1f1"
   },
   "outputs": [
    {
     "data": {
      "text/html": [
       "<div>\n",
       "<style scoped>\n",
       "    .dataframe tbody tr th:only-of-type {\n",
       "        vertical-align: middle;\n",
       "    }\n",
       "\n",
       "    .dataframe tbody tr th {\n",
       "        vertical-align: top;\n",
       "    }\n",
       "\n",
       "    .dataframe thead th {\n",
       "        text-align: right;\n",
       "    }\n",
       "</style>\n",
       "<table border=\"1\" class=\"dataframe\">\n",
       "  <thead>\n",
       "    <tr style=\"text-align: right;\">\n",
       "      <th></th>\n",
       "      <th>Image Index</th>\n",
       "      <th>labels</th>\n",
       "      <th>Follow-up #</th>\n",
       "      <th>Patient ID</th>\n",
       "      <th>Patient Age</th>\n",
       "      <th>Patient Gender</th>\n",
       "      <th>View Position</th>\n",
       "    </tr>\n",
       "  </thead>\n",
       "  <tbody>\n",
       "    <tr>\n",
       "      <td>0</td>\n",
       "      <td>D:\\xray\\images\\Cardiomegaly\\00000001_000.png</td>\n",
       "      <td>Cardiomegaly</td>\n",
       "      <td>0</td>\n",
       "      <td>1</td>\n",
       "      <td>58</td>\n",
       "      <td>M</td>\n",
       "      <td>PA</td>\n",
       "    </tr>\n",
       "    <tr>\n",
       "      <td>1</td>\n",
       "      <td>D:\\xray\\images\\Infiltration\\00000005_006.png</td>\n",
       "      <td>Infiltration</td>\n",
       "      <td>6</td>\n",
       "      <td>5</td>\n",
       "      <td>70</td>\n",
       "      <td>F</td>\n",
       "      <td>PA</td>\n",
       "    </tr>\n",
       "    <tr>\n",
       "      <td>2</td>\n",
       "      <td>D:\\xray\\images\\Cardiomegaly\\00000008_000.png</td>\n",
       "      <td>Cardiomegaly</td>\n",
       "      <td>0</td>\n",
       "      <td>8</td>\n",
       "      <td>69</td>\n",
       "      <td>F</td>\n",
       "      <td>PA</td>\n",
       "    </tr>\n",
       "    <tr>\n",
       "      <td>3</td>\n",
       "      <td>D:\\xray\\images\\Nodule\\00000008_002.png</td>\n",
       "      <td>Nodule</td>\n",
       "      <td>2</td>\n",
       "      <td>8</td>\n",
       "      <td>73</td>\n",
       "      <td>F</td>\n",
       "      <td>PA</td>\n",
       "    </tr>\n",
       "    <tr>\n",
       "      <td>4</td>\n",
       "      <td>D:\\xray\\images\\Emphysema\\00000009_000.png</td>\n",
       "      <td>Emphysema</td>\n",
       "      <td>0</td>\n",
       "      <td>9</td>\n",
       "      <td>73</td>\n",
       "      <td>M</td>\n",
       "      <td>PA</td>\n",
       "    </tr>\n",
       "  </tbody>\n",
       "</table>\n",
       "</div>"
      ],
      "text/plain": [
       "                                    Image Index        labels  Follow-up #  \\\n",
       "0  D:\\xray\\images\\Cardiomegaly\\00000001_000.png  Cardiomegaly            0   \n",
       "1  D:\\xray\\images\\Infiltration\\00000005_006.png  Infiltration            6   \n",
       "2  D:\\xray\\images\\Cardiomegaly\\00000008_000.png  Cardiomegaly            0   \n",
       "3        D:\\xray\\images\\Nodule\\00000008_002.png        Nodule            2   \n",
       "4     D:\\xray\\images\\Emphysema\\00000009_000.png     Emphysema            0   \n",
       "\n",
       "   Patient ID  Patient Age Patient Gender View Position  \n",
       "0           1           58              M            PA  \n",
       "1           5           70              F            PA  \n",
       "2           8           69              F            PA  \n",
       "3           8           73              F            PA  \n",
       "4           9           73              M            PA  "
      ]
     },
     "execution_count": 5,
     "metadata": {},
     "output_type": "execute_result"
    }
   ],
   "source": [
    "GENDER   = \"M\"\n",
    "POSITION = \"PA\"\n",
    "csv_file = csv_file = \"../sheet/normalized_xray_data_without_no_finding.csv\"\n",
    "\n",
    "\n",
    "# take existing if it exist\n",
    "if os.path.exists(csv_file):\n",
    "    df = pd.read_csv(csv_file)\n",
    "    xray_class = XrayTF(df)\n",
    "else:\n",
    "    df = get_data_sheet()\n",
    "    df = normalize_data_frame(df)\n",
    "    xray_class = XrayTF(df)\n",
    "    xray_class.prepend_image_full_path()\n",
    "    xray_class.df.to_csv(csv_file, index=False)\n",
    "\n",
    "xray_class.df.head()"
   ]
  },
  {
   "cell_type": "code",
   "execution_count": 6,
   "metadata": {
    "colab": {
     "base_uri": "https://localhost:8080/",
     "height": 255
    },
    "colab_type": "code",
    "executionInfo": {
     "elapsed": 604,
     "status": "ok",
     "timestamp": 1584456511317,
     "user": {
      "displayName": "Mark Christian Navalta",
      "photoUrl": "",
      "userId": "09219874191985009997"
     },
     "user_tz": 420
    },
    "id": "taEuiBZf8GkJ",
    "outputId": "5483e721-5920-4864-ed58-85160ffcf52d"
   },
   "outputs": [
    {
     "name": "stdout",
     "output_type": "stream",
     "text": [
      "Infiltration          19894\n",
      "Effusion              13317\n",
      "Atelectasis           11559\n",
      "Nodule                 6331\n",
      "Mass                   5782\n",
      "Pneumothorax           5302\n",
      "Consolidation          4667\n",
      "Pleural_Thickening     3385\n",
      "Cardiomegaly           2776\n",
      "Emphysema              2516\n",
      "Edema                  2303\n",
      "Fibrosis               1686\n",
      "Pneumonia              1431\n",
      "Name: labels, dtype: int64\n",
      "M    46281\n",
      "F    34668\n",
      "Name: Patient Gender, dtype: int64\n",
      "PA    42136\n",
      "AP    38813\n",
      "Name: View Position, dtype: int64\n"
     ]
    }
   ],
   "source": [
    "# let's balance the data\n",
    "\"\"\"\n",
    "xray_class.balance_all_labels()\n",
    "\"\"\"\n",
    "\n",
    "# Verify how balanced our data is\n",
    "print(xray_class.df.labels.value_counts())\n",
    "print(xray_class.df[\"Patient Gender\"].value_counts())\n",
    "print(xray_class.df[\"View Position\"].value_counts())"
   ]
  },
  {
   "cell_type": "code",
   "execution_count": null,
   "metadata": {},
   "outputs": [],
   "source": [
    "# decide which one we want to take in terms of relating to other features.\n",
    "\n",
    "\"\"\"\n",
    "\n",
    "\"\"\"\n",
    "xray_class.df = xray_class.df[xray_class.df[\"Patient Gender\"] == GENDER]\n",
    "xray_class.df = xray_class.df[xray_class.df[\"View Position\"] == POSITION]"
   ]
  },
  {
   "cell_type": "code",
   "execution_count": null,
   "metadata": {
    "colab": {},
    "colab_type": "code",
    "id": "oGFWxy9h8GkM"
   },
   "outputs": [],
   "source": [
    "# Split them into training and validation using NUM_IMAGES \n",
    "train_df, valid_df = xray_class.get_test_train_split_data(len(xray_class.df))"
   ]
  },
  {
   "cell_type": "code",
   "execution_count": null,
   "metadata": {
    "colab": {
     "base_uri": "https://localhost:8080/",
     "height": 119
    },
    "colab_type": "code",
    "executionInfo": {
     "elapsed": 944,
     "status": "ok",
     "timestamp": 1584456546154,
     "user": {
      "displayName": "Mark Christian Navalta",
      "photoUrl": "",
      "userId": "09219874191985009997"
     },
     "user_tz": 420
    },
    "id": "mmTdZf4F8GkP",
    "outputId": "513e8b4b-460b-4f42-a889-0c4998b817ba"
   },
   "outputs": [],
   "source": [
    "# Create training and validation data batches using ImageDataGenerator\n",
    "\"\"\"\n",
    "train_data = xray_class.create_data_batches(X_train, y_train)\n",
    "val_data = xray_class.create_data_batches(X_val, y_val, valid_data=True)\n",
    "train_data.element_spec, val_data.element_spec\n",
    "\"\"\"\n",
    "\n",
    "train_data = xray_class.generate_image(train_df)\n",
    "val_data   = xray_class.generate_image(valid_df)"
   ]
  },
  {
   "cell_type": "code",
   "execution_count": null,
   "metadata": {
    "colab": {
     "base_uri": "https://localhost:8080/",
     "height": 459
    },
    "colab_type": "code",
    "executionInfo": {
     "elapsed": 498,
     "status": "error",
     "timestamp": 1584456551442,
     "user": {
      "displayName": "Mark Christian Navalta",
      "photoUrl": "",
      "userId": "09219874191985009997"
     },
     "user_tz": 420
    },
    "id": "ZYCbjbtK8GkT",
    "outputId": "2abdba8c-9cc4-4320-bf07-e5089b2b187e"
   },
   "outputs": [],
   "source": [
    "\"\"\"\n",
    "train_images, train_labels = next(train_data.as_numpy_iterator())\n",
    "xray_class.show_25_images(train_images, train_labels)\n",
    "\"\"\"\n",
    "\n",
    "train_images, train_labels = next(train_data)\n",
    "xray_class.show_25_images(train_images, train_labels)"
   ]
  },
  {
   "cell_type": "code",
   "execution_count": null,
   "metadata": {
    "colab": {},
    "colab_type": "code",
    "id": "eOgDsASW8Gka",
    "outputId": "f4089fce-a592-417c-c4b6-eab25fe08fc9",
    "scrolled": true
   },
   "outputs": [],
   "source": [
    "model = xray_class.train_model(5, train_data, val_data) #(number of epoc, early stopping)\n",
    "xray_class.save_model(model, \"all_sickness\")"
   ]
  },
  {
   "cell_type": "code",
   "execution_count": null,
   "metadata": {
    "colab": {},
    "colab_type": "code",
    "id": "v_ZScnwe8Gke",
    "outputId": "323f1de4-9f34-4f98-d2c8-20e6c001103d"
   },
   "outputs": [],
   "source": [
    "# Make predictions on the validation data (not used to train on)\n",
    "predictions = model.predict(val_data, verbose=1) # verbose shows us how long there is to go"
   ]
  },
  {
   "cell_type": "code",
   "execution_count": null,
   "metadata": {
    "colab": {},
    "colab_type": "code",
    "id": "lVIvt5LL8Gkk",
    "outputId": "c3a3c4c6-5951-4b49-ec08-db70da00dc66",
    "scrolled": false
   },
   "outputs": [],
   "source": [
    "# Let's check a few predictions and their different values\n",
    "val_images, val_labels = next(val_data)\n",
    "\n",
    "i_multiplier = 0\n",
    "num_rows = 5\n",
    "num_cols = 3\n",
    "num_images = num_rows*num_cols\n",
    "plt.figure(figsize=(5*2*num_cols, 5*num_rows))\n",
    "for i in range(num_images):\n",
    "  plt.subplot(num_rows, 2*num_cols, 2*i+1)\n",
    "  xray_class.plot_pred(prediction_probabilities=predictions,\n",
    "            labels=val_labels,\n",
    "            images=val_images,\n",
    "            n=i+i_multiplier)\n",
    "  plt.subplot(num_rows, 2*num_cols, 2*i+2)\n",
    "  xray_class.plot_pred_conf(prediction_probabilities=predictions,\n",
    "                labels=val_labels,\n",
    "                n=i+i_multiplier)\n",
    "plt.tight_layout(h_pad=1.0)\n",
    "plt.show()"
   ]
  },
  {
   "cell_type": "code",
   "execution_count": null,
   "metadata": {
    "colab": {},
    "colab_type": "code",
    "id": "NaBSHq538Gkn"
   },
   "outputs": [],
   "source": []
  }
 ],
 "metadata": {
  "accelerator": "GPU",
  "colab": {
   "collapsed_sections": [],
   "name": "ml_all_without_no_finding.ipynb",
   "provenance": [],
   "toc_visible": true
  },
  "kernelspec": {
   "display_name": "Python 3",
   "language": "python",
   "name": "python3"
  },
  "language_info": {
   "codemirror_mode": {
    "name": "ipython",
    "version": 3
   },
   "file_extension": ".py",
   "mimetype": "text/x-python",
   "name": "python",
   "nbconvert_exporter": "python",
   "pygments_lexer": "ipython3",
   "version": "3.7.4"
  }
 },
 "nbformat": 4,
 "nbformat_minor": 1
}
