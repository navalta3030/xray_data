{
 "cells": [
  {
   "cell_type": "code",
   "execution_count": null,
   "metadata": {
    "colab": {
     "base_uri": "https://localhost:8080/",
     "height": 139
    },
    "colab_type": "code",
    "executionInfo": {
     "elapsed": 19633,
     "status": "ok",
     "timestamp": 1584456982001,
     "user": {
      "displayName": "Mark Christian Navalta",
      "photoUrl": "",
      "userId": "09219874191985009997"
     },
     "user_tz": 420
    },
    "id": "-E03kYy1_awS",
    "outputId": "703e2de1-88a3-4b5c-a129-ded6bb75225d"
   },
   "outputs": [],
   "source": [
    "%load_ext autoreload\n",
    "%autoreload 2"
   ]
  },
  {
   "cell_type": "code",
   "execution_count": 2,
   "metadata": {
    "colab": {},
    "colab_type": "code",
    "id": "_MgDzMVO_b7c"
   },
   "outputs": [],
   "source": [
    "from utils import *\n",
    "from ml_utils import XrayTF\n",
    "from tqdm import tqdm_notebook as tqdm\n",
    "\n",
    "import matplotlib.pyplot as plt\n",
    "import numpy as np\n",
    "import os"
   ]
  },
  {
   "cell_type": "markdown",
   "metadata": {},
   "source": [
    "# Load csv if exist, if not get the original one and parse it\n"
   ]
  },
  {
   "cell_type": "code",
   "execution_count": 3,
   "metadata": {
    "colab": {
     "base_uri": "https://localhost:8080/",
     "height": 49,
     "referenced_widgets": [
      "bafe05443413426385d6d6818889f51e",
      "dd6a190e31a842049f8caa7c09614e5e",
      "ce96a5e69b064542ba639fad8deac6c1",
      "3d4b58d6a2df4704a48ceae2bc521ad0",
      "332232c3488c413ca339d997b9568ab6",
      "69e7e1dace604320990898fa7ed54af3",
      "8b4c1224f0174d79a5470dc62d3fde20",
      "d85407a34a404ee2ac05dd286652f1f6"
     ]
    },
    "colab_type": "code",
    "id": "5a7g2a7K_awZ",
    "outputId": "30811be3-b643-4018-d10a-9c1869e20776"
   },
   "outputs": [
    {
     "data": {
      "text/html": [
       "<div>\n",
       "<style scoped>\n",
       "    .dataframe tbody tr th:only-of-type {\n",
       "        vertical-align: middle;\n",
       "    }\n",
       "\n",
       "    .dataframe tbody tr th {\n",
       "        vertical-align: top;\n",
       "    }\n",
       "\n",
       "    .dataframe thead th {\n",
       "        text-align: right;\n",
       "    }\n",
       "</style>\n",
       "<table border=\"1\" class=\"dataframe\">\n",
       "  <thead>\n",
       "    <tr style=\"text-align: right;\">\n",
       "      <th></th>\n",
       "      <th>Image Index</th>\n",
       "      <th>labels</th>\n",
       "      <th>Follow-up #</th>\n",
       "      <th>Patient ID</th>\n",
       "      <th>Patient Age</th>\n",
       "      <th>Patient Gender</th>\n",
       "      <th>View Position</th>\n",
       "      <th>image_width</th>\n",
       "      <th>image_width.1</th>\n",
       "      <th>x_pixel_spacing</th>\n",
       "      <th>y_pixel_spacing</th>\n",
       "    </tr>\n",
       "  </thead>\n",
       "  <tbody>\n",
       "    <tr>\n",
       "      <td>0</td>\n",
       "      <td>D:\\xray\\images\\Cardiomegaly\\00000001_000.png</td>\n",
       "      <td>Cardiomegaly</td>\n",
       "      <td>0</td>\n",
       "      <td>1</td>\n",
       "      <td>58</td>\n",
       "      <td>M</td>\n",
       "      <td>PA</td>\n",
       "      <td>2682</td>\n",
       "      <td>2749</td>\n",
       "      <td>0.143</td>\n",
       "      <td>0.143</td>\n",
       "    </tr>\n",
       "    <tr>\n",
       "      <td>1</td>\n",
       "      <td>D:\\xray\\images\\No Finding\\00000002_000.png</td>\n",
       "      <td>No Finding</td>\n",
       "      <td>0</td>\n",
       "      <td>2</td>\n",
       "      <td>81</td>\n",
       "      <td>M</td>\n",
       "      <td>PA</td>\n",
       "      <td>2500</td>\n",
       "      <td>2048</td>\n",
       "      <td>0.171</td>\n",
       "      <td>0.171</td>\n",
       "    </tr>\n",
       "    <tr>\n",
       "      <td>2</td>\n",
       "      <td>D:\\xray\\images\\Hernia\\00000003_000.png</td>\n",
       "      <td>Hernia</td>\n",
       "      <td>0</td>\n",
       "      <td>3</td>\n",
       "      <td>81</td>\n",
       "      <td>F</td>\n",
       "      <td>PA</td>\n",
       "      <td>2582</td>\n",
       "      <td>2991</td>\n",
       "      <td>0.143</td>\n",
       "      <td>0.143</td>\n",
       "    </tr>\n",
       "    <tr>\n",
       "      <td>3</td>\n",
       "      <td>D:\\xray\\images\\Hernia\\00000003_001.png</td>\n",
       "      <td>Hernia</td>\n",
       "      <td>1</td>\n",
       "      <td>3</td>\n",
       "      <td>74</td>\n",
       "      <td>F</td>\n",
       "      <td>PA</td>\n",
       "      <td>2500</td>\n",
       "      <td>2048</td>\n",
       "      <td>0.168</td>\n",
       "      <td>0.168</td>\n",
       "    </tr>\n",
       "    <tr>\n",
       "      <td>4</td>\n",
       "      <td>D:\\xray\\images\\Hernia\\00000003_002.png</td>\n",
       "      <td>Hernia</td>\n",
       "      <td>2</td>\n",
       "      <td>3</td>\n",
       "      <td>75</td>\n",
       "      <td>F</td>\n",
       "      <td>PA</td>\n",
       "      <td>2048</td>\n",
       "      <td>2500</td>\n",
       "      <td>0.168</td>\n",
       "      <td>0.168</td>\n",
       "    </tr>\n",
       "  </tbody>\n",
       "</table>\n",
       "</div>"
      ],
      "text/plain": [
       "                                    Image Index        labels  Follow-up #  \\\n",
       "0  D:\\xray\\images\\Cardiomegaly\\00000001_000.png  Cardiomegaly            0   \n",
       "1    D:\\xray\\images\\No Finding\\00000002_000.png    No Finding            0   \n",
       "2        D:\\xray\\images\\Hernia\\00000003_000.png        Hernia            0   \n",
       "3        D:\\xray\\images\\Hernia\\00000003_001.png        Hernia            1   \n",
       "4        D:\\xray\\images\\Hernia\\00000003_002.png        Hernia            2   \n",
       "\n",
       "   Patient ID  Patient Age Patient Gender View Position  image_width  \\\n",
       "0           1           58              M            PA         2682   \n",
       "1           2           81              M            PA         2500   \n",
       "2           3           81              F            PA         2582   \n",
       "3           3           74              F            PA         2500   \n",
       "4           3           75              F            PA         2048   \n",
       "\n",
       "   image_width.1  x_pixel_spacing  y_pixel_spacing  \n",
       "0           2749            0.143            0.143  \n",
       "1           2048            0.171            0.171  \n",
       "2           2991            0.143            0.143  \n",
       "3           2048            0.168            0.168  \n",
       "4           2500            0.168            0.168  "
      ]
     },
     "execution_count": 3,
     "metadata": {},
     "output_type": "execute_result"
    }
   ],
   "source": [
    "\"\"\"\n",
    "GENDER   = \"F\"\n",
    "\"\"\"\n",
    "SICKNESS = \"Emphysema\"\n",
    "POSITION = \"PA\"\n",
    "csv_file = \"../sheet/normalized_xray_data_with_no_finding.csv\"\n",
    "\n",
    "\n",
    "# take existing if it exist\n",
    "if os.path.exists(csv_file):\n",
    "    df = pd.read_csv(csv_file)\n",
    "    xray_class = XrayTF(df)\n",
    "else:\n",
    "    df = get_data_sheet()\n",
    "    df = normalize_data_frame(df)\n",
    "    xray_class = XrayTF(df)\n",
    "    xray_class.prepend_image_full_path()\n",
    "    xray_class.df.to_csv(csv_file, index=False)\n",
    "\n",
    "xray_class.df.head()"
   ]
  },
  {
   "cell_type": "markdown",
   "metadata": {},
   "source": [
    "# Analyze our data set\n",
    "- balance our data set\n",
    "- take a look at the distribution\n",
    "- prepare data before splitting to test and train"
   ]
  },
  {
   "cell_type": "code",
   "execution_count": 4,
   "metadata": {
    "colab": {},
    "colab_type": "code",
    "id": "NCF4Oizx_awd",
    "outputId": "8fadbd38-1fa2-4e43-b814-4671ae99f69f"
   },
   "outputs": [
    {
     "name": "stdout",
     "output_type": "stream",
     "text": [
      "No Finding    2516\n",
      "Emphysema     2516\n",
      "Name: labels, dtype: int64\n",
      "M    2993\n",
      "F    2039\n",
      "Name: Patient Gender, dtype: int64\n",
      "PA    3129\n",
      "AP    1903\n",
      "Name: View Position, dtype: int64\n"
     ]
    }
   ],
   "source": [
    "# Pick a sickness\n",
    "xray_class.use_one_label(SICKNESS, balance=True)\n",
    "\n",
    "# Verify how balanced our data is\n",
    "print(xray_class.df.labels.value_counts())\n",
    "print(xray_class.df[\"Patient Gender\"].value_counts())\n",
    "print(xray_class.df[\"View Position\"].value_counts())"
   ]
  },
  {
   "cell_type": "code",
   "execution_count": 5,
   "metadata": {},
   "outputs": [
    {
     "data": {
      "text/plain": [
       "(0, 100)"
      ]
     },
     "execution_count": 5,
     "metadata": {},
     "output_type": "execute_result"
    },
    {
     "data": {
      "image/png": "[encoded data removed]",
      "text/plain": [
       "<Figure size 432x288 with 1 Axes>"
      ]
     },
     "metadata": {
      "needs_background": "light"
     },
     "output_type": "display_data"
    }
   ],
   "source": [
    "xray_class.df[\"Patient Age\"].hist(bins=100).set_xlim(0,100)"
   ]
  },
  {
   "cell_type": "code",
   "execution_count": 6,
   "metadata": {},
   "outputs": [],
   "source": [
    "# decide which one we want to take in terms of relating to other features.\n",
    "\n",
    "\"\"\"\n",
    "xray_class.df = xray_class.df[xray_class.df[\"Patient Gender\"] == GENDER]\n",
    "\"\"\"\n",
    "\n",
    "xray_class.df = xray_class.df[xray_class.df[\"View Position\"] == POSITION]"
   ]
  },
  {
   "cell_type": "markdown",
   "metadata": {},
   "source": [
    "# Pre-processing of images and label\n",
    "- split dataframe accordingly with equal numbers of labels in test and train\n",
    "- batches image\n",
    "- show image"
   ]
  },
  {
   "cell_type": "code",
   "execution_count": 23,
   "metadata": {},
   "outputs": [
    {
     "data": {
      "text/plain": [
       "array(['Emphysema', 'No Finding'], dtype=object)"
      ]
     },
     "execution_count": 23,
     "metadata": {},
     "output_type": "execute_result"
    }
   ],
   "source": [
    "test = {\n",
    "    \"No Finding\": 0,\n",
    "    SICKNESS : 1\n",
    "}\n",
    "xray_class.df.labels = xray_class.df.labels.apply(lambda x: test[x])\n"
   ]
  },
  {
   "cell_type": "code",
   "execution_count": 8,
   "metadata": {},
   "outputs": [],
   "source": [
    "# Split them into training and validation using NUM_IMAGES \n",
    "train_df, valid_df = xray_class.get_test_train_split_data(100)"
   ]
  },
  {
   "cell_type": "code",
   "execution_count": 9,
   "metadata": {
    "colab": {},
    "colab_type": "code",
    "id": "iHcH2ebh_awl",
    "outputId": "3b09eb80-1747-4193-8cad-6a11fa565494"
   },
   "outputs": [
    {
     "name": "stdout",
     "output_type": "stream",
     "text": [
      "Found 2503 validated image filenames belonging to 2 classes.\n",
      "Found 626 validated image filenames belonging to 2 classes.\n"
     ]
    }
   ],
   "source": [
    "# Create training and validation data batches using ImageDataGenerator\n",
    "\"\"\"\n",
    "train_data = xray_class.create_data_batches(X_train, y_train)\n",
    "val_data = xray_class.create_data_batches(X_val, y_val, valid_data=True)\n",
    "train_data.element_spec, val_data.element_spec\n",
    "\"\"\"\n",
    "\n",
    "train_data = xray_class.generate_image(train_df, augment=True)\n",
    "val_data   = xray_class.generate_image(valid_df)"
   ]
  },
  {
   "cell_type": "code",
   "execution_count": null,
   "metadata": {
    "colab": {},
    "colab_type": "code",
    "id": "LW8pWLm4_awo",
    "outputId": "c5622bb8-b789-44db-b65b-f760578957f3"
   },
   "outputs": [],
   "source": [
    "\"\"\"\n",
    "train_images, train_labels = next(train_data.as_numpy_iterator())\n",
    "xray_class.show_25_images(train_images, train_labels)\n",
    "\"\"\"\n",
    "\n",
    "train_images, train_labels = next(train_data)\n",
    "xray_class.show_25_images(train_images, train_labels)"
   ]
  },
  {
   "cell_type": "markdown",
   "metadata": {},
   "source": [
    "# Perform model trainining\n",
    "- fit our data using Categorical classification with metrics of accuracy and optimization Adam\n",
    "- validate data\n",
    "- save our model"
   ]
  },
  {
   "cell_type": "code",
   "execution_count": null,
   "metadata": {
    "colab": {},
    "colab_type": "code",
    "id": "1QPBoovj_awv",
    "scrolled": true
   },
   "outputs": [],
   "source": [
    "if xray_class.model_exist(SICKNESS, POSITION):\n",
    "    model = xray_class.model_exist(SICKNESS, POSITION)\n",
    "    a, b = model.evaluate(val_data)\n",
    "else:\n",
    "    model = xray_class.train_model(5, train_data, val_data) #(number of epoc, early stopping)\n",
    "    a, b = model.evaluate(val_data)\n",
    "\n",
    "    # save model\n",
    "    xray_class.save_model(model, f\"{SICKNESS}_{POSITION}_{round(a, 2)}_{round(float(b), 2)}\")"
   ]
  },
  {
   "cell_type": "code",
   "execution_count": null,
   "metadata": {
    "colab": {},
    "colab_type": "code",
    "id": "7H5GNUgM_awy"
   },
   "outputs": [],
   "source": [
    "# Make predictions on the validation data (not used to train on)\n",
    "predictions = model.predict(val_data, verbose=1) # verbose shows us how long there is to go\n"
   ]
  },
  {
   "cell_type": "code",
   "execution_count": null,
   "metadata": {
    "colab": {},
    "colab_type": "code",
    "id": "aKzpztet_aw5",
    "scrolled": false
   },
   "outputs": [],
   "source": [
    "# Let's check a few predictions and their different values\n",
    "val_images, val_labels = next(val_data)\n",
    "\n",
    "i_multiplier = 0\n",
    "num_rows = 5\n",
    "num_cols = 3\n",
    "num_images = num_rows*num_cols\n",
    "plt.figure(figsize=(5*2*num_cols, 5*num_rows))\n",
    "for i in range(num_images):\n",
    "  plt.subplot(num_rows, 2*num_cols, 2*i+1)\n",
    "  xray_class.plot_pred(prediction_probabilities=predictions,\n",
    "            labels=val_labels,\n",
    "            images=val_images,\n",
    "            n=i+i_multiplier)\n",
    "  plt.subplot(num_rows, 2*num_cols, 2*i+2)\n",
    "  xray_class.plot_pred_conf(prediction_probabilities=predictions,\n",
    "                labels=val_labels,\n",
    "                n=i+i_multiplier)\n",
    "plt.tight_layout(h_pad=1.0)\n",
    "plt.show()"
   ]
  },
  {
   "cell_type": "markdown",
   "metadata": {},
   "source": [
    "# Evaluating our model\n",
    "- confusion matrix\n",
    "- classification report\n",
    "- loss and accuracy"
   ]
  },
  {
   "cell_type": "code",
   "execution_count": null,
   "metadata": {},
   "outputs": [],
   "source": [
    "acc = round(b,2)\n",
    "loss = round(a,2)\n",
    "print(f\"Loss : {loss}, Accuracy: {acc}\")"
   ]
  },
  {
   "cell_type": "code",
   "execution_count": null,
   "metadata": {},
   "outputs": [],
   "source": [
    "y_test = [xray_class.get_label(x) for x in predictions] # convert [0,25, 0.75] -> \"No Finding/Effusion\"\n",
    "y_val = [xray_class.get_unique_labels()[x] for x in val_data.labels]\n",
    "\n",
    "xray_class.generate_confusion_matrix(y_test, y_val)"
   ]
  },
  {
   "cell_type": "code",
   "execution_count": null,
   "metadata": {},
   "outputs": [],
   "source": [
    "xray_class.generate_classification_report(y_test, y_val)"
   ]
  }
 ],
 "metadata": {
  "colab": {
   "collapsed_sections": [],
   "name": "ml_no_finding_and_Infiltration.ipynb",
   "provenance": []
  },
  "kernelspec": {
   "display_name": "Python 3",
   "language": "python",
   "name": "python3"
  },
  "language_info": {
   "codemirror_mode": {
    "name": "ipython",
    "version": 3
   },
   "file_extension": ".py",
   "mimetype": "text/x-python",
   "name": "python",
   "nbconvert_exporter": "python",
   "pygments_lexer": "ipython3",
   "version": "3.7.4"
  },
  "widgets": {
   "application/vnd.jupyter.widget-state+json": {
    "332232c3488c413ca339d997b9568ab6": {
     "model_module": "@jupyter-widgets/controls",
     "model_name": "ProgressStyleModel",
     "state": {
      "_model_module": "@jupyter-widgets/controls",
      "_model_module_version": "1.5.0",
      "_model_name": "ProgressStyleModel",
      "_view_count": null,
      "_view_module": "@jupyter-widgets/base",
      "_view_module_version": "1.2.0",
      "_view_name": "StyleView",
      "bar_color": null,
      "description_width": ""
     }
    },
    "3d4b58d6a2df4704a48ceae2bc521ad0": {
     "model_module": "@jupyter-widgets/controls",
     "model_name": "HTMLModel",
     "state": {
      "_dom_classes": [],
      "_model_module": "@jupyter-widgets/controls",
      "_model_module_version": "1.5.0",
      "_model_name": "HTMLModel",
      "_view_count": null,
      "_view_module": "@jupyter-widgets/controls",
      "_view_module_version": "1.5.0",
      "_view_name": "HTMLView",
      "description": "",
      "description_tooltip": null,
      "layout": "IPY_MODEL_d85407a34a404ee2ac05dd286652f1f6",
      "placeholder": "​",
      "style": "IPY_MODEL_8b4c1224f0174d79a5470dc62d3fde20",
      "value": "  0% 175/112120 [00:19&lt;5:27:10,  5.70it/s]"
     }
    },
    "69e7e1dace604320990898fa7ed54af3": {
     "model_module": "@jupyter-widgets/base",
     "model_name": "LayoutModel",
     "state": {
      "_model_module": "@jupyter-widgets/base",
      "_model_module_version": "1.2.0",
      "_model_name": "LayoutModel",
      "_view_count": null,
      "_view_module": "@jupyter-widgets/base",
      "_view_module_version": "1.2.0",
      "_view_name": "LayoutView",
      "align_content": null,
      "align_items": null,
      "align_self": null,
      "border": null,
      "bottom": null,
      "display": null,
      "flex": null,
      "flex_flow": null,
      "grid_area": null,
      "grid_auto_columns": null,
      "grid_auto_flow": null,
      "grid_auto_rows": null,
      "grid_column": null,
      "grid_gap": null,
      "grid_row": null,
      "grid_template_areas": null,
      "grid_template_columns": null,
      "grid_template_rows": null,
      "height": null,
      "justify_content": null,
      "justify_items": null,
      "left": null,
      "margin": null,
      "max_height": null,
      "max_width": null,
      "min_height": null,
      "min_width": null,
      "object_fit": null,
      "object_position": null,
      "order": null,
      "overflow": null,
      "overflow_x": null,
      "overflow_y": null,
      "padding": null,
      "right": null,
      "top": null,
      "visibility": null,
      "width": null
     }
    },
    "8b4c1224f0174d79a5470dc62d3fde20": {
     "model_module": "@jupyter-widgets/controls",
     "model_name": "DescriptionStyleModel",
     "state": {
      "_model_module": "@jupyter-widgets/controls",
      "_model_module_version": "1.5.0",
      "_model_name": "DescriptionStyleModel",
      "_view_count": null,
      "_view_module": "@jupyter-widgets/base",
      "_view_module_version": "1.2.0",
      "_view_name": "StyleView",
      "description_width": ""
     }
    },
    "bafe05443413426385d6d6818889f51e": {
     "model_module": "@jupyter-widgets/controls",
     "model_name": "HBoxModel",
     "state": {
      "_dom_classes": [],
      "_model_module": "@jupyter-widgets/controls",
      "_model_module_version": "1.5.0",
      "_model_name": "HBoxModel",
      "_view_count": null,
      "_view_module": "@jupyter-widgets/controls",
      "_view_module_version": "1.5.0",
      "_view_name": "HBoxView",
      "box_style": "",
      "children": [
       "IPY_MODEL_ce96a5e69b064542ba639fad8deac6c1",
       "IPY_MODEL_3d4b58d6a2df4704a48ceae2bc521ad0"
      ],
      "layout": "IPY_MODEL_dd6a190e31a842049f8caa7c09614e5e"
     }
    },
    "ce96a5e69b064542ba639fad8deac6c1": {
     "model_module": "@jupyter-widgets/controls",
     "model_name": "IntProgressModel",
     "state": {
      "_dom_classes": [],
      "_model_module": "@jupyter-widgets/controls",
      "_model_module_version": "1.5.0",
      "_model_name": "IntProgressModel",
      "_view_count": null,
      "_view_module": "@jupyter-widgets/controls",
      "_view_module_version": "1.5.0",
      "_view_name": "ProgressView",
      "bar_style": "",
      "description": "",
      "description_tooltip": null,
      "layout": "IPY_MODEL_69e7e1dace604320990898fa7ed54af3",
      "max": 112120,
      "min": 0,
      "orientation": "horizontal",
      "style": "IPY_MODEL_332232c3488c413ca339d997b9568ab6",
      "value": 175
     }
    },
    "d85407a34a404ee2ac05dd286652f1f6": {
     "model_module": "@jupyter-widgets/base",
     "model_name": "LayoutModel",
     "state": {
      "_model_module": "@jupyter-widgets/base",
      "_model_module_version": "1.2.0",
      "_model_name": "LayoutModel",
      "_view_count": null,
      "_view_module": "@jupyter-widgets/base",
      "_view_module_version": "1.2.0",
      "_view_name": "LayoutView",
      "align_content": null,
      "align_items": null,
      "align_self": null,
      "border": null,
      "bottom": null,
      "display": null,
      "flex": null,
      "flex_flow": null,
      "grid_area": null,
      "grid_auto_columns": null,
      "grid_auto_flow": null,
      "grid_auto_rows": null,
      "grid_column": null,
      "grid_gap": null,
      "grid_row": null,
      "grid_template_areas": null,
      "grid_template_columns": null,
      "grid_template_rows": null,
      "height": null,
      "justify_content": null,
      "justify_items": null,
      "left": null,
      "margin": null,
      "max_height": null,
      "max_width": null,
      "min_height": null,
      "min_width": null,
      "object_fit": null,
      "object_position": null,
      "order": null,
      "overflow": null,
      "overflow_x": null,
      "overflow_y": null,
      "padding": null,
      "right": null,
      "top": null,
      "visibility": null,
      "width": null
     }
    },
    "dd6a190e31a842049f8caa7c09614e5e": {
     "model_module": "@jupyter-widgets/base",
     "model_name": "LayoutModel",
     "state": {
      "_model_module": "@jupyter-widgets/base",
      "_model_module_version": "1.2.0",
      "_model_name": "LayoutModel",
      "_view_count": null,
      "_view_module": "@jupyter-widgets/base",
      "_view_module_version": "1.2.0",
      "_view_name": "LayoutView",
      "align_content": null,
      "align_items": null,
      "align_self": null,
      "border": null,
      "bottom": null,
      "display": null,
      "flex": null,
      "flex_flow": null,
      "grid_area": null,
      "grid_auto_columns": null,
      "grid_auto_flow": null,
      "grid_auto_rows": null,
      "grid_column": null,
      "grid_gap": null,
      "grid_row": null,
      "grid_template_areas": null,
      "grid_template_columns": null,
      "grid_template_rows": null,
      "height": null,
      "justify_content": null,
      "justify_items": null,
      "left": null,
      "margin": null,
      "max_height": null,
      "max_width": null,
      "min_height": null,
      "min_width": null,
      "object_fit": null,
      "object_position": null,
      "order": null,
      "overflow": null,
      "overflow_x": null,
      "overflow_y": null,
      "padding": null,
      "right": null,
      "top": null,
      "visibility": null,
      "width": null
     }
    }
   }
  }
 },
 "nbformat": 4,
 "nbformat_minor": 1
}
